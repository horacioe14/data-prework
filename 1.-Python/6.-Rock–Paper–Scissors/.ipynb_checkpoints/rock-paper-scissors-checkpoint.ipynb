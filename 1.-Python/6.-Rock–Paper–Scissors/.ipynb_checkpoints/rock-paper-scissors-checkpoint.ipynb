{
 "cells": [
  {
   "cell_type": "markdown",
   "metadata": {},
   "source": [
    "<img src=\"https://bit.ly/2VnXWr2\" width=\"100\" align=\"left\">"
   ]
  },
  {
   "cell_type": "markdown",
   "metadata": {},
   "source": [
    "# Rock, Paper & Scissors\n",
    "\n",
    "Let's play the famous game against our computer. You can check the rules [here](https://en.wikipedia.org/wiki/Rock%E2%80%93paper%E2%80%93scissors). \n",
    "\n",
    "## Task\n",
    "Create a program that imitates the playability of the well known game of rock, paper, scissors. Follow the guidelines provided.\n",
    "\n",
    "## Tools\n",
    "1. Loop: **for/while**\n",
    "2. Functions: **input(), print()...**\n",
    "3. Conditional statements: **if, elif, else**\n",
    "4. Definition of functions. Modular programming\n",
    "5. Import modules\n",
    "\n",
    "**To solve this challenge, the use of functions is recommended.**\n",
    "\n",
    "#### 1. Import the choice function of the random module."
   ]
  },
  {
   "cell_type": "code",
   "execution_count": 1606,
   "metadata": {},
   "outputs": [],
   "source": [
    "import random"
   ]
  },
  {
   "cell_type": "markdown",
   "metadata": {},
   "source": [
    "#### 2. Create a list that includes the 3 possible gesture options of the game: 'rock', 'paper' or 'scissors'. Store the list in a variable called `gestures`."
   ]
  },
  {
   "cell_type": "code",
   "execution_count": 1607,
   "metadata": {},
   "outputs": [],
   "source": [
    "gesture = ['rock', 'paper', 'scissors']"
   ]
  },
  {
   "cell_type": "markdown",
   "metadata": {},
   "source": [
    "#### 3. Create a variable called `n_rounds` to store the maximum number of rounds to play in a game. \n",
    "Remember that the number of rounds must be odd: 1, 3, 5, ..."
   ]
  },
  {
   "cell_type": "code",
   "execution_count": 1608,
   "metadata": {},
   "outputs": [],
   "source": [
    "n_rounds = [1, 3, 5, 7, 9]"
   ]
  },
  {
   "cell_type": "markdown",
   "metadata": {},
   "source": [
    "#### 4. Create a variable called `rounds_to_win` to store the number of rounds that a player must win to win the game.\n",
    "**Hint**: the value stored in `rounds_to_win` depends on the value of `n_rounds`. "
   ]
  },
  {
   "cell_type": "code",
   "execution_count": 1609,
   "metadata": {},
   "outputs": [],
   "source": [
    "rounds_to_win = [1, 2, 3, 4, 5]\n"
   ]
  },
  {
   "cell_type": "markdown",
   "metadata": {},
   "source": [
    "#### 5. Create two variables to store the number of rounds that the computer and the player have won. Call these variables `cpu_score` and `player_score`."
   ]
  },
  {
   "cell_type": "code",
   "execution_count": 1610,
   "metadata": {},
   "outputs": [],
   "source": [
    "cpu_score = []\n",
    "player_score = []"
   ]
  },
  {
   "cell_type": "markdown",
   "metadata": {},
   "source": [
    "#### 6. Define a function that randomly returns one of the 3 gesture options.\n",
    "You will use this function to simulate the gesture choice of the computer. "
   ]
  },
  {
   "cell_type": "code",
   "execution_count": 1611,
   "metadata": {},
   "outputs": [
    {
     "name": "stdout",
     "output_type": "stream",
     "text": [
      "scissors\n"
     ]
    }
   ],
   "source": [
    "def computer_choice():\n",
    "    return random.choice(gesture)\n",
    "print(computer_choice())"
   ]
  },
  {
   "cell_type": "markdown",
   "metadata": {},
   "source": [
    "#### 7. Define a function that asks the player which is the gesture he or she wants to show: 'rock', 'paper' or 'scissors'.\n",
    "The player should only be allowed to choose one of the 3 gesture options. If the player's choice is not rock, paper or scissors, keep asking until it is."
   ]
  },
  {
   "cell_type": "code",
   "execution_count": 1612,
   "metadata": {},
   "outputs": [],
   "source": [
    "def p_choice():\n",
    "    pick = input('Choose rock, paper, or scissors (in lower caps): ')\n",
    "    while pick not in gesture:\n",
    "        print('Wrong input. Choose rock, paper, or scissors in lower caps')\n",
    "        pick = input('Choose rock, paper, or scissors (in lower caps): ')\n",
    "    return pick\n",
    "\n"
   ]
  },
  {
   "cell_type": "markdown",
   "metadata": {},
   "source": [
    "#### 8. Define a function that checks who won a round. \n",
    "The function should return 0 if there is a tie, 1 if the computer wins and 2 if the player wins."
   ]
  },
  {
   "cell_type": "code",
   "execution_count": 1613,
   "metadata": {},
   "outputs": [],
   "source": [
    "\n",
    "\n",
    "def win_check(cpu_choice,player_choice):\n",
    "    if cpu_choice == player_choice:\n",
    "        return 0\n",
    "    elif (cpu_choice == 'rock') & (player_choice == 'scissors'):\n",
    "        return 1\n",
    "    elif (cpu_choice == 'paper') & (player_choice == 'rock'):\n",
    "        return 1\n",
    "    elif (cpu_choice == 'scissors') & (player_choice == 'paper'):\n",
    "        return 1\n",
    "    elif (player_choice == 'rock') & (cpu_choice == 'scissors'):\n",
    "        return 2\n",
    "    elif (player_choice == 'paper') & (cpu_choice == 'rock'):\n",
    "        return 2\n",
    "    elif (player_choice == 'scissors') & (cpu_choice == 'paper'):\n",
    "        return 2\n",
    "\n",
    "\n",
    "# test = win_check(computer_choice(), p_choice())\n",
    "# test2 = 1 + test\n",
    "# print(test)\n",
    "# print(test2)"
   ]
  },
  {
   "cell_type": "markdown",
   "metadata": {},
   "source": [
    "#### 9. Define a function that prints the choice of the computer, the choice of the player and a message that announces who won the current round. \n",
    "You should also use this function to update the variables that count the number of rounds that the computer and the player have won. The score of the winner increases by one point. If there is a tie, the score does not increase."
   ]
  },
  {
   "cell_type": "code",
   "execution_count": 1614,
   "metadata": {},
   "outputs": [],
   "source": [
    "\n",
    "\n",
    "def results(win_checker):\n",
    "    print(f'The computer choose: {cpu}')\n",
    "    print(f'The player choose: {player}')\n",
    "    if win_checker == 0:\n",
    "        cpu_score.append(win_checker)\n",
    "        player_score.append(win_checker)\n",
    "        print(\"It's a tie!\")\n",
    "    elif win_checker == 1:\n",
    "        cpu_score.append(win_checker)\n",
    "        player_score.append(0)\n",
    "        print(\"The computer won!\")\n",
    "    elif win_checker == 2:\n",
    "        player_score.append(win_checker)\n",
    "        cpu_score.append(0)\n",
    "        print(\"You won!\")\n",
    "\n"
   ]
  },
  {
   "cell_type": "markdown",
   "metadata": {},
   "source": [
    "#### 10. Now it's time to code the execution of the game using the functions and variables you defined above. \n",
    "\n",
    "First, create a loop structure that repeats while no player reaches the minimum score necessary to win and the number of rounds is less than the maximum number of rounds to play in a game.  \n",
    "\n",
    "Inside the loop, use the functions and variables above to create the execution of a round: ask for the player's choice, generate the random choice of the computer, show the round results, update the scores, etc. "
   ]
  },
  {
   "cell_type": "code",
   "execution_count": 1615,
   "metadata": {},
   "outputs": [
    {
     "name": "stdout",
     "output_type": "stream",
     "text": [
      "Choose rock, paper, or scissors (in lower caps): rock\n",
      "The computer choose: scissors\n",
      "The player choose: rock\n",
      "You won!\n",
      "Choose rock, paper, or scissors (in lower caps): paper\n",
      "The computer choose: scissors\n",
      "The player choose: paper\n",
      "The computer won!\n",
      "Choose rock, paper, or scissors (in lower caps): scissors\n",
      "The computer choose: paper\n",
      "The player choose: scissors\n",
      "You won!\n",
      "Choose rock, paper, or scissors (in lower caps): rock\n",
      "The computer choose: scissors\n",
      "The player choose: rock\n",
      "You won!\n",
      "Player score is: [2, 0, 2, 2]\n",
      "CPU score is: [0, 1, 0, 0]\n"
     ]
    }
   ],
   "source": [
    "game_rounds = 0\n",
    "while (game_rounds < n_rounds[2]) & (sum(player_score)/2 < rounds_to_win[2]) & (sum(cpu_score) < rounds_to_win[2]):\n",
    "    cpu = computer_choice()\n",
    "    player = p_choice()\n",
    "    winner = win_check(cpu, player)\n",
    "    results(winner)\n",
    "    game_rounds +=1\n",
    "\n",
    "\n",
    "print(f'Player score is: {player_score}')\n",
    "print(f'CPU score is: {cpu_score}')"
   ]
  },
  {
   "cell_type": "markdown",
   "metadata": {},
   "source": [
    "#### 11. Print the winner of the game based on who won more rounds.\n",
    "Remember that the game might be tied. "
   ]
  },
  {
   "cell_type": "code",
   "execution_count": 1546,
   "metadata": {},
   "outputs": [
    {
     "name": "stdout",
     "output_type": "stream",
     "text": [
      "The player is the overall winner!\n"
     ]
    }
   ],
   "source": [
    "if sum(player_score)/2 == sum(cpu_score):\n",
    "    print(\"We have a tie!\")\n",
    "elif sum(player_score)/2 > sum(cpu_score):\n",
    "    print('The player is the overall winner!')\n",
    "elif sum(player_score)/2 < sum(cpu_score):\n",
    "    print('The computer is the overall winner!')"
   ]
  },
  {
   "cell_type": "markdown",
   "metadata": {},
   "source": [
    "# Bonus: Rock, Paper, Scissors, Lizard & Spock\n",
    "![](images/rpsls.jpg)\n",
    "\n",
    "In this challenge, you need to improve the previous game by adding two new options. To know more about the rules of the improved version of rock, paper, scissors, check this [link](http://www.samkass.com/theories/RPSSL.html). \n",
    "\n",
    "In addition, you will also need to improve how the game interacts with the player: the number of rounds to play, which must be an odd number, will be requested to the user until a valid number is entered. Define a new function to make that request.\n",
    "\n",
    "**Hint**: Try to reuse the code that you already coded in the previous challenge. If your code is efficient, this bonus will only consist of simple modifications to the original game."
   ]
  },
  {
   "cell_type": "code",
   "execution_count": 1605,
   "metadata": {},
   "outputs": [
    {
     "name": "stdout",
     "output_type": "stream",
     "text": [
      "Choose best of 1, 3, 5, 7, or 9 rounds to play: 1\n",
      "Choose rock, paper, scissors, lizard, or spock (in lower caps): paper\n",
      "The computer choose: spock\n",
      "The player choose: paper\n",
      "You won!\n",
      "Player score is: [2]\n",
      "CPU score is: [0]\n",
      "The player is the overall winner!\n"
     ]
    }
   ],
   "source": [
    "import math\n",
    "gesture_bonus = ['rock', 'paper', 'scissors', 'lizard', 'spock']\n",
    "n_rounds_bonus = ['1', '3', '5', '7', '9']\n",
    "cpu_score_bonus = []\n",
    "player_score_bonus = []\n",
    "\n",
    "def computer_choice_bonus():\n",
    "    return random.choice(gesture_bonus)\n",
    "\n",
    "def p_choice_bonus():\n",
    "    pick_bonus = input('Choose rock, paper, scissors, lizard, or spock (in lower caps): ')\n",
    "    while pick_bonus not in gesture_bonus:\n",
    "        print('Wrong input. Choose rock, paper, scissors, lizard, or spock in lower caps')\n",
    "        pick_bonus = input('Choose rock, paper, scissors, lizard, or spock (in lower caps): ')\n",
    "    return pick_bonus\n",
    "\n",
    "def rounds_choice_bonus():\n",
    "    rounds_bonus = input('Choose best of 1, 3, 5, 7, or 9 rounds to play: ')\n",
    "    while rounds_bonus not in n_rounds_bonus:\n",
    "        print('Wrong choice. Choose of 1, 3, 5, 7, or 9 rounds to play: ')\n",
    "        rounds_bonus = input('Choose best of 1, 3, 5, 7, or 9 rounds to play: ')\n",
    "    return int(rounds_bonus)\n",
    "rounds_to_play = rounds_choice_bonus()\n",
    "rounds_to_win = math.floor(rounds_to_play/2) + 1\n",
    "\n",
    "def win_check_bonus(cpu_choice_bonus,player_choice_bonus):\n",
    "    if cpu_choice_bonus == player_choice_bonus:\n",
    "        return 0\n",
    "    elif (cpu_choice_bonus == 'rock') & (player_choice_bonus == 'scissors'):\n",
    "        return 1\n",
    "    elif (cpu_choice_bonus == 'rock') & (player_choice_bonus == 'lizard'):\n",
    "        return 1\n",
    "    elif (cpu_choice_bonus == 'paper') & (player_choice_bonus == 'rock'):\n",
    "        return 1\n",
    "    elif (cpu_choice_bonus == 'paper') & (player_choice_bonus == 'spock'):\n",
    "        return 1\n",
    "    elif (cpu_choice_bonus == 'scissors') & (player_choice_bonus == 'paper'):\n",
    "        return 1\n",
    "    elif (cpu_choice_bonus == 'scissors') & (player_choice_bonus == 'lizard'):\n",
    "        return 1\n",
    "    elif (cpu_choice_bonus == 'lizard') & (player_choice_bonus == 'spock'):\n",
    "        return 1\n",
    "    elif (cpu_choice_bonus == 'lizard') & (player_choice_bonus == 'paper'):\n",
    "        return 1\n",
    "    elif (cpu_choice_bonus == 'spock') & (player_choice_bonus == 'scissors'):\n",
    "        return 1\n",
    "    elif (cpu_choice_bonus == 'spock') & (player_choice_bonus == 'rock'):\n",
    "        return 1\n",
    "    \n",
    "    elif (player_choice_bonus == 'rock') & (cpu_choice_bonus == 'scissors'):\n",
    "        return 2\n",
    "    elif (player_choice_bonus == 'rock') & (cpu_choice_bonus == 'lizard'):\n",
    "        return 2\n",
    "    elif (player_choice_bonus == 'paper') & (cpu_choice_bonus == 'rock'):\n",
    "        return 2\n",
    "    elif (player_choice_bonus == 'paper') & (cpu_choice_bonus == 'spock'):\n",
    "        return 2\n",
    "    elif (player_choice_bonus == 'scissors') & (cpu_choice_bonus == 'paper'):\n",
    "        return 2\n",
    "    elif (player_choice_bonus == 'scissors') & (cpu_choice_bonus == 'lizard'):\n",
    "        return 2\n",
    "    elif (player_choice_bonus == 'lizard') & (cpu_choice_bonus == 'spock'):\n",
    "        return 2\n",
    "    elif (player_choice_bonus == 'lizard') & (cpu_choice_bonus == 'paper'):\n",
    "        return 2\n",
    "    elif (player_choice_bonus == 'spock') & (cpu_choice_bonus == 'scissors'):\n",
    "        return 2\n",
    "    elif (player_choice_bonus == 'spock') & (cpu_choice_bonus == 'rock'):\n",
    "        return 2\n",
    "    \n",
    "\n",
    "def results_bonus(win_checker_bonus):\n",
    "    print(f'The computer choose: {cpu_bonus}')\n",
    "    print(f'The player choose: {player_bonus}')\n",
    "    if win_checker_bonus == 0:\n",
    "        cpu_score_bonus.append(win_checker_bonus)\n",
    "        player_score_bonus.append(win_checker_bonus)\n",
    "        print(\"It's a tie!\")\n",
    "    elif win_checker_bonus == 1:\n",
    "        cpu_score_bonus.append(win_checker_bonus)\n",
    "        player_score_bonus.append(0)\n",
    "        print(\"The computer won!\")\n",
    "    elif win_checker_bonus == 2:\n",
    "        player_score_bonus.append(win_checker_bonus)\n",
    "        cpu_score_bonus.append(0)\n",
    "        print(\"You won!\")\n",
    "\n",
    "\n",
    "game_rounds_bonus = 0\n",
    "while (game_rounds_bonus < rounds_to_play) & (sum(player_score_bonus)/2 < rounds_to_win) & (sum(cpu_score_bonus) < rounds_to_win):\n",
    "    cpu_bonus = computer_choice_bonus()\n",
    "    player_bonus = p_choice_bonus()\n",
    "    winner_bonus = win_check_bonus(cpu_bonus, player_bonus)\n",
    "    results_bonus(winner_bonus)\n",
    "    game_rounds_bonus +=1\n",
    "\n",
    "\n",
    "print(f'Player score is: {player_score_bonus}')\n",
    "print(f'CPU score is: {cpu_score_bonus}')\n",
    "\n",
    "\n",
    "if sum(player_score_bonus)/2 == sum(cpu_score_bonus):\n",
    "    print(\"We have a tie!\")\n",
    "elif sum(player_score_bonus)/2 > sum(cpu_score_bonus):\n",
    "    print('The player is the overall winner!')\n",
    "elif sum(player_score_bonus)/2 < sum(cpu_score_bonus):\n",
    "    print('The computer is the overall winner!')"
   ]
  },
  {
   "cell_type": "code",
   "execution_count": null,
   "metadata": {},
   "outputs": [],
   "source": []
  }
 ],
 "metadata": {
  "kernelspec": {
   "display_name": "Python 3",
   "language": "python",
   "name": "python3"
  }
 },
 "nbformat": 4,
 "nbformat_minor": 2
}
