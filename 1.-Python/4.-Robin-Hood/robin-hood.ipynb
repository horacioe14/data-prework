{
 "cells": [
  {
   "cell_type": "markdown",
   "metadata": {},
   "source": [
    "<img src=\"https://bit.ly/2VnXWr2\" width=\"100\" align=\"left\"/>"
   ]
  },
  {
   "cell_type": "markdown",
   "metadata": {},
   "source": [
    "# Robin Hood\n",
    "Robin Hood has entered a competition to win the archery contest in Sherwood. With his bow and arrows, he needs to shoot on a target and try to hit as close as possible to the center.\n",
    "\n",
    "![](images/arrows.jpg)\n",
    "\n",
    "## Context\n",
    "In this challenge, the landing position of arrows shot by archers in the competition will be represented using 2-dimensional coordinates. \n",
    "\n",
    "In the 2-dimensional space, a point can be defined by a pair of values that correspond to the horizontal coordinate (x) and the vertical coordinate (y). For example, in our case, an arrow that hits the center of the archery target will land in position (0, 0) on the coordinate axes. \n",
    "\n",
    "The space can be divided into 4 zones (quadrants): Q1, Q2, Q3, Q4. If a point is in Q1, both its x coordinate and y coordinate are positive. Any point with a null x or y coordinate is considered to not belong to any quadrant. \n",
    "\n",
    "If you want to know more about the cartesian coordinate system, you can check this [link](https://en.wikipedia.org/wiki/Cartesian_coordinate_system). \n",
    "\n",
    "## Tools\n",
    "You don't necessarily need to use all the tools. Maybe you opt to use some of them or completely different ones, they are given to help you shape the exercise. Programming exercises can be solved in many different ways.\n",
    "* Data structures: **lists, sets, tuples**\n",
    "* Conditional statements: **if-elif-else**\n",
    "* Loop: **while/for**\n",
    "* Minimum (optional sorting)\n",
    "\n",
    "## Tasks\n",
    "Robin Hood has hit the following points:"
   ]
  },
  {
   "cell_type": "code",
   "execution_count": 46,
   "metadata": {},
   "outputs": [],
   "source": [
    "points = [(4, 5), (-0, 2), (4, 7), (1, -3), (3, -2), (4, 5), (3, 2), (5, 7), (-5, 7), (2, 2), (-4, 5), (-0, -2),\n",
    "          (-4, 7), (-1, 3), (-3, 2), (-4, -5), (-3, 2), (5, 7), (5, 7), (2, 2), (9, 9), (-8, -9)]"
   ]
  },
  {
   "cell_type": "markdown",
   "metadata": {},
   "source": [
    "#### 1. Robin Hood is famous for hitting an arrow with another arrow. Find the coordinates of the points where an arrow hits another arrow."
   ]
  },
  {
   "cell_type": "code",
   "execution_count": 47,
   "metadata": {},
   "outputs": [
    {
     "name": "stdout",
     "output_type": "stream",
     "text": [
      "The coordinates of points where an arrow hits another arrow are: [(4, 5), (5, 7), (2, 2), (-3, 2)]\n"
     ]
    }
   ],
   "source": [
    "hits_list = []\n",
    "for coordinates in range(len(points)):\n",
    "    for hits in range(len(points)):\n",
    "        if coordinates == hits:\n",
    "            hits_list = hits_list\n",
    "        elif (points[coordinates] == points[hits]) & (points[hits] not in hits_list):\n",
    "            hits_list.append(points[hits])\n",
    "print(f'The coordinates of points where an arrow hits another arrow are: {hits_list}')\n"
   ]
  },
  {
   "cell_type": "markdown",
   "metadata": {},
   "source": [
    "#### 2. Calculate how many arrows have fallen in each quadrant. \n",
    "**Note**: the arrows that fall in the axis (x=0 or y=0) don't belong to any quadrant."
   ]
  },
  {
   "cell_type": "code",
   "execution_count": 70,
   "metadata": {},
   "outputs": [
    {
     "name": "stdout",
     "output_type": "stream",
     "text": [
      "The number of arrows fallen in each quadrant are: Q1=10, Q2=6, Q3=2, and Q4=2.\n",
      "The number of arrows that do not belong to any quadrant are: 2\n"
     ]
    }
   ],
   "source": [
    "qdt_1 = []\n",
    "qdt_2 = []\n",
    "qdt_3 = []\n",
    "qdt_4 = []\n",
    "qdt_0 = []\n",
    "for arrows in range(len(points)):\n",
    "    for axis in range(len(points[arrows])-1):\n",
    "        if (points[arrows][axis] > 0) & (points[arrows][axis+1] > 0):\n",
    "            qdt_1.append(points[arrows])\n",
    "        elif (points[arrows][axis] < 0) & (points[arrows][axis+1] > 0):\n",
    "            qdt_2.append(points[arrows])\n",
    "        elif (points[arrows][axis] < 0) & (points[arrows][axis+1] < 0):\n",
    "            qdt_3.append(points[arrows])\n",
    "        elif (points[arrows][axis] > 0) & (points[arrows][axis+1] < 0):\n",
    "            qdt_4.append(points[arrows])\n",
    "        elif (points[arrows][axis] == 0) | (points[arrows][axis+1] == 0):\n",
    "            qdt_0.append(points[arrows])\n",
    "print(f'The number of arrows fallen in each quadrant are: Q1={len(qdt_1)}, Q2={len(qdt_2)}, Q3={len(qdt_3)}, and Q4={len(qdt_4)}.')\n",
    "print(f'The number of arrows that do not belong to any quadrant are: {len(qdt_0)}')"
   ]
  },
  {
   "cell_type": "code",
   "execution_count": 45,
   "metadata": {},
   "outputs": [
    {
     "name": "stdout",
     "output_type": "stream",
     "text": [
      "The number of fallen arrows is: 2\n"
     ]
    }
   ],
   "source": [
    "fallen_list = []\n",
    "\n",
    "for fallen in range(len(points)):\n",
    "    if (points[fallen][0] == 0) | (points[fallen][1] == 0):\n",
    "        fallen_list.append(points[fallen])\n",
    "print(f'The number of fallen arrows is: {len(fallen_list)}')"
   ]
  },
  {
   "cell_type": "markdown",
   "metadata": {},
   "source": [
    "#### 3. Find the point closest to the center. Calculate its distance to the center. \n",
    "Take into account that there might be more than one point at the minimum distance to the center.\n",
    "\n",
    "**Hint**: Use the Euclidean distance. You can find more information about it [here](https://en.wikipedia.org/wiki/Euclidean_distance).  \n",
    "**Hint**: Defining a function that calculates the distance to the center can help."
   ]
  },
  {
   "cell_type": "code",
   "execution_count": 176,
   "metadata": {},
   "outputs": [
    {
     "name": "stdout",
     "output_type": "stream",
     "text": [
      "The closest points to the center are: (0, 2) and (0, -2) with a Euclidean distance of 2.0.\n"
     ]
    }
   ],
   "source": [
    "coordinate_p = (0,0)\n",
    "eucli_dist_list = []\n",
    "\n",
    "for distance in range(len(points)):\n",
    "    points_list.append(list(points[distance]))\n",
    "    eucli_dist = round(((points[distance][0]-coordinate_p[0])**2 + (points[distance][1]-coordinate_p[1])**2)**.5,2)\n",
    "    eucli_dist_list.append(eucli_dist)\n",
    "    \n",
    "closest_center_list = []\n",
    "for closest in range(len(points)):\n",
    "    if eucli_dist_list[closest] == min(eucli_dist_list):\n",
    "            closest_center_list.append(points[closest])\n",
    "print(f'The closest points to the center are: {closest_center_list[0]} and {closest_center_list[1]} with a Euclidean distance of {min(eucli_dist_list)}.')\n"
   ]
  },
  {
   "cell_type": "markdown",
   "metadata": {},
   "source": [
    "#### 4. If the archery target has a radius of 9, calculate the number of arrows that won't hit the target. \n",
    "**Hint**: Use the function created in step 3. "
   ]
  },
  {
   "cell_type": "code",
   "execution_count": 177,
   "metadata": {},
   "outputs": [
    {
     "name": "stdout",
     "output_type": "stream",
     "text": [
      "The arrows that won't hit the target are: [(-8, -9), (-8, -9)].\n"
     ]
    }
   ],
   "source": [
    "outside_archery = []\n",
    "for outside in range(len(points)):\n",
    "    if eucli_dist_list[outside] > 9:\n",
    "            outside_archery.append(points[closest])\n",
    "print(f\"The arrows that won't hit the target are: {outside_archery}.\")\n"
   ]
  },
  {
   "cell_type": "code",
   "execution_count": null,
   "metadata": {},
   "outputs": [],
   "source": []
  }
 ],
 "metadata": {
  "kernelspec": {
   "display_name": "Python 3",
   "language": "python",
   "name": "python3"
  },
  "language_info": {
   "codemirror_mode": {
    "name": "ipython",
    "version": 3
   },
   "file_extension": ".py",
   "mimetype": "text/x-python",
   "name": "python",
   "nbconvert_exporter": "python",
   "pygments_lexer": "ipython3",
   "version": "3.8.3"
  }
 },
 "nbformat": 4,
 "nbformat_minor": 2
}
